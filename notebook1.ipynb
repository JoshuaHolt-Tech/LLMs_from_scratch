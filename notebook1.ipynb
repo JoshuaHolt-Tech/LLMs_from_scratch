{
 "cells": [
  {
   "cell_type": "markdown",
   "id": "309174ce-136e-4191-bac0-9c345bf4093f",
   "metadata": {},
   "source": [
    "Build a Large Language Model from Scratch Github: https://github.com/rasbt/LLMs-from-scratch/tree/main"
   ]
  },
  {
   "cell_type": "markdown",
   "id": "4ea914c7-f6ef-4aa9-a159-13344a596216",
   "metadata": {},
   "source": [
    "Text from The Verdict: https://en.wikisource.org/wiki/The_Verdict"
   ]
  },
  {
   "cell_type": "code",
   "execution_count": null,
   "id": "b1426255-5c04-41f7-92c4-8f0bc1e8adb0",
   "metadata": {},
   "outputs": [],
   "source": []
  }
 ],
 "metadata": {
  "kernelspec": {
   "display_name": "Python 3 (ipykernel)",
   "language": "python",
   "name": "python3"
  },
  "language_info": {
   "codemirror_mode": {
    "name": "ipython",
    "version": 3
   },
   "file_extension": ".py",
   "mimetype": "text/x-python",
   "name": "python",
   "nbconvert_exporter": "python",
   "pygments_lexer": "ipython3",
   "version": "3.12.2"
  }
 },
 "nbformat": 4,
 "nbformat_minor": 5
}
