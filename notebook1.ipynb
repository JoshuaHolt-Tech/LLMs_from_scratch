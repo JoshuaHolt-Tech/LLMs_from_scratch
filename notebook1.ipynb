{
 "cells": [
  {
   "cell_type": "markdown",
   "id": "309174ce-136e-4191-bac0-9c345bf4093f",
   "metadata": {},
   "source": [
    "Build a Large Language Model from Scratch Github: https://github.com/rasbt/LLMs-from-scratch/tree/main"
   ]
  },
  {
   "cell_type": "markdown",
   "id": "4ea914c7-f6ef-4aa9-a159-13344a596216",
   "metadata": {},
   "source": [
    "Text from The Verdict: https://en.wikisource.org/wiki/The_Verdict"
   ]
  },
  {
   "cell_type": "code",
   "execution_count": 4,
   "id": "5e40dce2-8ff8-4cc3-8fb8-f825424128ce",
   "metadata": {},
   "outputs": [],
   "source": [
    "import re"
   ]
  },
  {
   "cell_type": "code",
   "execution_count": 1,
   "id": "b1426255-5c04-41f7-92c4-8f0bc1e8adb0",
   "metadata": {},
   "outputs": [],
   "source": [
    "text_file = \"data/the_verdict.txt\""
   ]
  },
  {
   "cell_type": "code",
   "execution_count": 2,
   "id": "df4aba8d-6415-49c1-99b1-8c31e5691d8d",
   "metadata": {},
   "outputs": [],
   "source": [
    "with open(text_file, \"r\", encoding=\"utf-8\") as f:\n",
    "    raw_text = f.read()"
   ]
  },
  {
   "cell_type": "code",
   "execution_count": 3,
   "id": "1ff7a2dc-fee8-4eeb-b2d2-cc072146af70",
   "metadata": {},
   "outputs": [
    {
     "name": "stdout",
     "output_type": "stream",
     "text": [
      "Total number of character: 20479\n",
      "I HAD always thought Jack Gisburn rather a cheap genius--though a good fellow enough--so it was no \n"
     ]
    }
   ],
   "source": [
    "print(\"Total number of character:\", len(raw_text))\n",
    "print(raw_text[:99])"
   ]
  },
  {
   "cell_type": "markdown",
   "id": "1fc7a620-cfe9-4675-8d31-25613b6919f5",
   "metadata": {},
   "source": [
    "Note: Normally we remove white space but it can be helpful when exact structure of the text matters like in Python code."
   ]
  },
  {
   "cell_type": "markdown",
   "id": "1abca2b8-72d6-42ce-8a38-5709f73ed630",
   "metadata": {},
   "source": [
    "### Create tokens"
   ]
  },
  {
   "cell_type": "code",
   "execution_count": 5,
   "id": "7b8631af-afee-4868-b3bd-f5e8e9595de5",
   "metadata": {},
   "outputs": [],
   "source": [
    "preprocessed = re.split(r'([,.:;?_!\"()\\']|--|\\s)', raw_text)"
   ]
  },
  {
   "cell_type": "code",
   "execution_count": 6,
   "id": "1c82ca83-0bc0-4f54-99d8-a03f96b43f6c",
   "metadata": {},
   "outputs": [],
   "source": [
    "preprocessed = [item.strip() for item in preprocessed if item.strip()]"
   ]
  },
  {
   "cell_type": "code",
   "execution_count": 7,
   "id": "a19fcec0-1128-4a5c-a993-938d96f0d62c",
   "metadata": {},
   "outputs": [
    {
     "name": "stdout",
     "output_type": "stream",
     "text": [
      "4690\n"
     ]
    }
   ],
   "source": [
    "print(len(preprocessed))"
   ]
  },
  {
   "cell_type": "code",
   "execution_count": 8,
   "id": "ded6d8d2-6ab6-4706-b9b6-b65f91a58d76",
   "metadata": {},
   "outputs": [
    {
     "name": "stdout",
     "output_type": "stream",
     "text": [
      "['I', 'HAD', 'always', 'thought', 'Jack', 'Gisburn', 'rather', 'a', 'cheap', 'genius', '--', 'though', 'a', 'good', 'fellow', 'enough', '--', 'so', 'it', 'was', 'no', 'great', 'surprise', 'to', 'me', 'to', 'hear', 'that', ',', 'in']\n"
     ]
    }
   ],
   "source": [
    "print(preprocessed[:30])"
   ]
  },
  {
   "cell_type": "markdown",
   "id": "449c5f86-5a49-4c42-95a6-8c39337fb032",
   "metadata": {},
   "source": [
    "### Create token IDs"
   ]
  },
  {
   "cell_type": "code",
   "execution_count": 9,
   "id": "d4c25668-c7b1-4c9a-8730-a75284c0ceb5",
   "metadata": {},
   "outputs": [],
   "source": [
    "all_words = sorted(set(preprocessed))"
   ]
  },
  {
   "cell_type": "code",
   "execution_count": 10,
   "id": "10c4b398-c6b5-41d2-bfff-333aac9bf76d",
   "metadata": {},
   "outputs": [],
   "source": [
    "vocab_size = len(all_words)"
   ]
  },
  {
   "cell_type": "code",
   "execution_count": 11,
   "id": "019c5bc0-6eb1-417e-ba7c-ccd1a698ca59",
   "metadata": {},
   "outputs": [
    {
     "name": "stdout",
     "output_type": "stream",
     "text": [
      "1130\n"
     ]
    }
   ],
   "source": [
    "print(vocab_size)"
   ]
  },
  {
   "cell_type": "code",
   "execution_count": 12,
   "id": "cc25e1e6-5b33-4c4d-b61c-af140a20c205",
   "metadata": {},
   "outputs": [],
   "source": [
    "vocab = {token:integer for integer, token in enumerate(all_words)}"
   ]
  },
  {
   "cell_type": "code",
   "execution_count": 13,
   "id": "2237dba9-25bb-4727-89d0-c0b0d49678fb",
   "metadata": {},
   "outputs": [
    {
     "name": "stdout",
     "output_type": "stream",
     "text": [
      "('!', 0)\n",
      "('\"', 1)\n",
      "(\"'\", 2)\n",
      "('(', 3)\n",
      "(')', 4)\n",
      "(',', 5)\n",
      "('--', 6)\n",
      "('.', 7)\n",
      "(':', 8)\n",
      "(';', 9)\n",
      "('?', 10)\n",
      "('A', 11)\n",
      "('Ah', 12)\n",
      "('Among', 13)\n",
      "('And', 14)\n",
      "('Are', 15)\n",
      "('Arrt', 16)\n",
      "('As', 17)\n",
      "('At', 18)\n",
      "('Be', 19)\n",
      "('Begin', 20)\n",
      "('Burlington', 21)\n",
      "('But', 22)\n",
      "('By', 23)\n",
      "('Carlo', 24)\n",
      "('Chicago', 25)\n",
      "('Claude', 26)\n",
      "('Come', 27)\n",
      "('Croft', 28)\n",
      "('Destroyed', 29)\n",
      "('Devonshire', 30)\n",
      "('Don', 31)\n",
      "('Dubarry', 32)\n",
      "('Emperors', 33)\n",
      "('Florence', 34)\n",
      "('For', 35)\n",
      "('Gallery', 36)\n",
      "('Gideon', 37)\n",
      "('Gisburn', 38)\n",
      "('Gisburns', 39)\n",
      "('Grafton', 40)\n",
      "('Greek', 41)\n",
      "('Grindle', 42)\n",
      "('Grindles', 43)\n",
      "('HAD', 44)\n",
      "('Had', 45)\n",
      "('Hang', 46)\n",
      "('Has', 47)\n",
      "('He', 48)\n",
      "('Her', 49)\n",
      "('Hermia', 50)\n"
     ]
    }
   ],
   "source": [
    "for i, item in enumerate(vocab.items()):\n",
    "    print(item)\n",
    "    if i >= 50:\n",
    "        break"
   ]
  },
  {
   "cell_type": "markdown",
   "id": "47303c0c-8a8c-4237-8e7b-9168638295b5",
   "metadata": {},
   "source": [
    "### Create simple text tokenizer class"
   ]
  },
  {
   "cell_type": "code",
   "execution_count": 14,
   "id": "810f00e7-9352-46eb-a02b-83100cab41ea",
   "metadata": {},
   "outputs": [],
   "source": [
    "class SimpleTokenizerV1:\n",
    "    def __init__(self, vocab):\n",
    "        self.str_to_int = vocab\n",
    "        self.int_to_str = {i:s for s, i in vocab.items()}\n",
    "\n",
    "    def encode(self, text):\n",
    "        preprocessed = re.split(r'([,.:;?_!\"()\\']|--|\\s)', raw_text)\n",
    "        preprocessed = [item.strip() for item in preprocessed if item.strip()]\n",
    "        ids = [self.str_to_int[s] for s in preprocessed]\n",
    "        return ids\n",
    "\n",
    "    def decode(self, ids):\n",
    "        text = \" \".join([self.int_to_str[i] for i in ids])\n",
    "        text = re.sub(r'\\s+([,.?!\"()\\'])', r'\\1', text)\n",
    "        return text"
   ]
  },
  {
   "cell_type": "code",
   "execution_count": null,
   "id": "f2486250-40ae-42ac-a189-9dcb2916f3f5",
   "metadata": {},
   "outputs": [],
   "source": []
  }
 ],
 "metadata": {
  "kernelspec": {
   "display_name": "Python 3 (ipykernel)",
   "language": "python",
   "name": "python3"
  },
  "language_info": {
   "codemirror_mode": {
    "name": "ipython",
    "version": 3
   },
   "file_extension": ".py",
   "mimetype": "text/x-python",
   "name": "python",
   "nbconvert_exporter": "python",
   "pygments_lexer": "ipython3",
   "version": "3.12.2"
  }
 },
 "nbformat": 4,
 "nbformat_minor": 5
}
