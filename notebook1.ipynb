{
 "cells": [
  {
   "cell_type": "markdown",
   "id": "309174ce-136e-4191-bac0-9c345bf4093f",
   "metadata": {},
   "source": [
    "Build a Large Language Model from Scratch Github: https://github.com/rasbt/LLMs-from-scratch/tree/main"
   ]
  },
  {
   "cell_type": "markdown",
   "id": "4ea914c7-f6ef-4aa9-a159-13344a596216",
   "metadata": {},
   "source": [
    "Text from The Verdict: https://en.wikisource.org/wiki/The_Verdict"
   ]
  },
  {
   "cell_type": "code",
   "execution_count": 1,
   "id": "5e40dce2-8ff8-4cc3-8fb8-f825424128ce",
   "metadata": {},
   "outputs": [],
   "source": [
    "import re"
   ]
  },
  {
   "cell_type": "code",
   "execution_count": 2,
   "id": "b1426255-5c04-41f7-92c4-8f0bc1e8adb0",
   "metadata": {},
   "outputs": [],
   "source": [
    "text_file = \"data/the_verdict.txt\""
   ]
  },
  {
   "cell_type": "code",
   "execution_count": 3,
   "id": "df4aba8d-6415-49c1-99b1-8c31e5691d8d",
   "metadata": {},
   "outputs": [],
   "source": [
    "with open(text_file, \"r\", encoding=\"utf-8\") as f:\n",
    "    raw_text = f.read()"
   ]
  },
  {
   "cell_type": "code",
   "execution_count": 4,
   "id": "1ff7a2dc-fee8-4eeb-b2d2-cc072146af70",
   "metadata": {},
   "outputs": [
    {
     "name": "stdout",
     "output_type": "stream",
     "text": [
      "Total number of character: 20479\n",
      "I HAD always thought Jack Gisburn rather a cheap genius--though a good fellow enough--so it was no \n"
     ]
    }
   ],
   "source": [
    "print(\"Total number of character:\", len(raw_text))\n",
    "print(raw_text[:99])"
   ]
  },
  {
   "cell_type": "markdown",
   "id": "1fc7a620-cfe9-4675-8d31-25613b6919f5",
   "metadata": {},
   "source": [
    "Note: Normally we remove white space but it can be helpful when exact structure of the text matters like in Python code."
   ]
  },
  {
   "cell_type": "markdown",
   "id": "1abca2b8-72d6-42ce-8a38-5709f73ed630",
   "metadata": {},
   "source": [
    "### Create tokens"
   ]
  },
  {
   "cell_type": "code",
   "execution_count": 5,
   "id": "7b8631af-afee-4868-b3bd-f5e8e9595de5",
   "metadata": {},
   "outputs": [],
   "source": [
    "preprocessed = re.split(r'([,.:;?_!\"()\\']|--|\\s)', raw_text)"
   ]
  },
  {
   "cell_type": "code",
   "execution_count": 6,
   "id": "1c82ca83-0bc0-4f54-99d8-a03f96b43f6c",
   "metadata": {},
   "outputs": [],
   "source": [
    "preprocessed = [item.strip() for item in preprocessed if item.strip()]"
   ]
  },
  {
   "cell_type": "code",
   "execution_count": 7,
   "id": "a19fcec0-1128-4a5c-a993-938d96f0d62c",
   "metadata": {},
   "outputs": [
    {
     "name": "stdout",
     "output_type": "stream",
     "text": [
      "4690\n"
     ]
    }
   ],
   "source": [
    "print(len(preprocessed))"
   ]
  },
  {
   "cell_type": "code",
   "execution_count": 8,
   "id": "ded6d8d2-6ab6-4706-b9b6-b65f91a58d76",
   "metadata": {},
   "outputs": [
    {
     "name": "stdout",
     "output_type": "stream",
     "text": [
      "['I', 'HAD', 'always', 'thought', 'Jack', 'Gisburn', 'rather', 'a', 'cheap', 'genius', '--', 'though', 'a', 'good', 'fellow', 'enough', '--', 'so', 'it', 'was', 'no', 'great', 'surprise', 'to', 'me', 'to', 'hear', 'that', ',', 'in']\n"
     ]
    }
   ],
   "source": [
    "print(preprocessed[:30])"
   ]
  },
  {
   "cell_type": "markdown",
   "id": "449c5f86-5a49-4c42-95a6-8c39337fb032",
   "metadata": {},
   "source": [
    "### Create token IDs"
   ]
  },
  {
   "cell_type": "code",
   "execution_count": 9,
   "id": "d4c25668-c7b1-4c9a-8730-a75284c0ceb5",
   "metadata": {},
   "outputs": [],
   "source": [
    "all_tokens = sorted(set(preprocessed))"
   ]
  },
  {
   "cell_type": "code",
   "execution_count": 10,
   "id": "17cfa77b-0e1a-461d-9d71-b57ab1e72bf4",
   "metadata": {},
   "outputs": [],
   "source": [
    "all_tokens.extend([\"<|endoftext|>\", \"<|unk|>\"])"
   ]
  },
  {
   "cell_type": "code",
   "execution_count": 11,
   "id": "10c4b398-c6b5-41d2-bfff-333aac9bf76d",
   "metadata": {},
   "outputs": [],
   "source": [
    "vocab_size = len(all_tokens)"
   ]
  },
  {
   "cell_type": "code",
   "execution_count": 12,
   "id": "019c5bc0-6eb1-417e-ba7c-ccd1a698ca59",
   "metadata": {},
   "outputs": [
    {
     "name": "stdout",
     "output_type": "stream",
     "text": [
      "1132\n"
     ]
    }
   ],
   "source": [
    "print(vocab_size)"
   ]
  },
  {
   "cell_type": "code",
   "execution_count": 13,
   "id": "cc25e1e6-5b33-4c4d-b61c-af140a20c205",
   "metadata": {},
   "outputs": [],
   "source": [
    "vocab = {token:integer for integer, token in enumerate(all_tokens)}"
   ]
  },
  {
   "cell_type": "code",
   "execution_count": 14,
   "id": "2237dba9-25bb-4727-89d0-c0b0d49678fb",
   "metadata": {
    "scrolled": true
   },
   "outputs": [
    {
     "name": "stdout",
     "output_type": "stream",
     "text": [
      "('younger', 1127)\n",
      "('your', 1128)\n",
      "('yourself', 1129)\n",
      "('<|endoftext|>', 1130)\n",
      "('<|unk|>', 1131)\n"
     ]
    }
   ],
   "source": [
    "for i, item in enumerate(list(vocab.items())[-5:]):\n",
    "    print(item)"
   ]
  },
  {
   "cell_type": "markdown",
   "id": "47303c0c-8a8c-4237-8e7b-9168638295b5",
   "metadata": {},
   "source": [
    "### Create simple text tokenizer class"
   ]
  },
  {
   "cell_type": "code",
   "execution_count": 15,
   "id": "810f00e7-9352-46eb-a02b-83100cab41ea",
   "metadata": {},
   "outputs": [],
   "source": [
    "class SimpleTokenizerV2:\n",
    "    def __init__(self, vocab):\n",
    "        self.str_to_int = vocab\n",
    "        self.int_to_str = {i:s for s,i in vocab.items()}\n",
    "\n",
    "    def encode(self, text):\n",
    "        preprocessed = re.split(r'([,.?_!\"()\\']|--|\\s)', text)\n",
    "        preprocessed = [item.strip() for item in preprocessed if item.strip()]\n",
    "        preprocessed =[item if item in self.str_to_int else \"<|unk|>\" for item in preprocessed]\n",
    "        ids = [self.str_to_int[s] for s in preprocessed]\n",
    "        return ids\n",
    "\n",
    "    def decode(self, ids):\n",
    "        text = \" \".join([self.int_to_str[i] for i in ids])\n",
    "        text = re.sub(r'\\s+([,.?!\"()\\'])', r'\\1', text)\n",
    "        return text"
   ]
  },
  {
   "cell_type": "code",
   "execution_count": 16,
   "id": "f2486250-40ae-42ac-a189-9dcb2916f3f5",
   "metadata": {},
   "outputs": [],
   "source": [
    "tokenizer = SimpleTokenizerV2(vocab)"
   ]
  },
  {
   "cell_type": "code",
   "execution_count": 17,
   "id": "5ca2c552-2ee2-4e10-9a0b-e6e22776d4a3",
   "metadata": {},
   "outputs": [],
   "source": [
    "text = \"\"\"\"It's the last he painted, you know,\" Mrs. Gisburn said with pardonable pride.\"\"\""
   ]
  },
  {
   "cell_type": "code",
   "execution_count": 18,
   "id": "0dde493a-5607-4a83-8db4-a2f2f3232e08",
   "metadata": {},
   "outputs": [],
   "source": [
    "ids = tokenizer.encode(text)"
   ]
  },
  {
   "cell_type": "code",
   "execution_count": 19,
   "id": "256fbdee-c5ba-4e70-a3ab-0ed4e48133bb",
   "metadata": {},
   "outputs": [
    {
     "name": "stdout",
     "output_type": "stream",
     "text": [
      "[1, 56, 2, 850, 988, 602, 533, 746, 5, 1126, 596, 5, 1, 67, 7, 38, 851, 1108, 754, 793, 7]\n"
     ]
    }
   ],
   "source": [
    "print(ids)"
   ]
  },
  {
   "cell_type": "code",
   "execution_count": 20,
   "id": "08b31a9e-e33f-4687-ae0f-ba4ada8465e9",
   "metadata": {},
   "outputs": [
    {
     "name": "stdout",
     "output_type": "stream",
     "text": [
      "\" It' s the last he painted, you know,\" Mrs. Gisburn said with pardonable pride.\n"
     ]
    }
   ],
   "source": [
    "print(tokenizer.decode(ids))"
   ]
  },
  {
   "cell_type": "markdown",
   "id": "44dd52b8-defd-4d09-8340-95eb91c0cabb",
   "metadata": {},
   "source": [
    "Note: If the word is not in the origional vocab list then you get a key error. You add a `<|unk|>` vs the word to the key value pair."
   ]
  },
  {
   "cell_type": "code",
   "execution_count": null,
   "id": "d939ef56-892f-4032-8602-a02f32b60682",
   "metadata": {},
   "outputs": [],
   "source": []
  }
 ],
 "metadata": {
  "kernelspec": {
   "display_name": "Python 3 (ipykernel)",
   "language": "python",
   "name": "python3"
  },
  "language_info": {
   "codemirror_mode": {
    "name": "ipython",
    "version": 3
   },
   "file_extension": ".py",
   "mimetype": "text/x-python",
   "name": "python",
   "nbconvert_exporter": "python",
   "pygments_lexer": "ipython3",
   "version": "3.11.10"
  }
 },
 "nbformat": 4,
 "nbformat_minor": 5
}
