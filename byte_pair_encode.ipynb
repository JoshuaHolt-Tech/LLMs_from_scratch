{
 "cells": [
  {
   "cell_type": "markdown",
   "id": "cd64e1a4-687d-4242-9d1b-37e10e490047",
   "metadata": {},
   "source": [
    "### Byte Pair Encoding"
   ]
  },
  {
   "cell_type": "code",
   "execution_count": 1,
   "id": "981e7b5a-3b21-43c4-9aef-e823db9e08dd",
   "metadata": {},
   "outputs": [
    {
     "name": "stdout",
     "output_type": "stream",
     "text": [
      "tiktoken version: 0.8.0\n"
     ]
    }
   ],
   "source": [
    "from importlib.metadata import version\n",
    "import tiktoken\n",
    "print(\"tiktoken version:\", version(\"tiktoken\"))"
   ]
  },
  {
   "cell_type": "code",
   "execution_count": 2,
   "id": "0997d615-9152-4e63-8ef3-4de1f87b9743",
   "metadata": {},
   "outputs": [],
   "source": [
    "tokenizer = tiktoken.get_encoding(\"gpt2\")"
   ]
  },
  {
   "cell_type": "code",
   "execution_count": 3,
   "id": "5610d24d-d493-4530-a06a-0af5c10ab04a",
   "metadata": {},
   "outputs": [],
   "source": [
    "text = (\"Hello, do you like tea? <|endoftext|> In the sunlit terraces of Akwirw ier.\")"
   ]
  },
  {
   "cell_type": "code",
   "execution_count": 4,
   "id": "ae347d00-a00d-49ab-b531-7e59736589ab",
   "metadata": {},
   "outputs": [
    {
     "name": "stdout",
     "output_type": "stream",
     "text": [
      "[15496, 11, 466, 345, 588, 8887, 30, 220, 50256, 554, 262, 4252, 18250, 8812, 2114, 286, 9084, 86, 343, 86, 220, 959, 13]\n"
     ]
    }
   ],
   "source": [
    "integers = tokenizer.encode(text, allowed_special={\"<|endoftext|>\"})\n",
    "print(integers)"
   ]
  },
  {
   "cell_type": "code",
   "execution_count": 5,
   "id": "19b3b1cb-4d7b-416d-bf8e-4864c4686940",
   "metadata": {},
   "outputs": [
    {
     "name": "stdout",
     "output_type": "stream",
     "text": [
      "Hello, do you like tea? <|endoftext|> In the sunlit terraces of Akwirw ier.\n"
     ]
    }
   ],
   "source": [
    "strings = tokenizer.decode(integers)\n",
    "print(strings)"
   ]
  },
  {
   "cell_type": "markdown",
   "id": "354a2052-b1a1-45a9-8c85-73ce6059b55b",
   "metadata": {},
   "source": [
    "### Data Sampling with a Sliding Window"
   ]
  },
  {
   "cell_type": "code",
   "execution_count": 6,
   "id": "3c3493b9-af6a-40aa-9e85-2f5bdbc68378",
   "metadata": {},
   "outputs": [],
   "source": [
    "with open(\"data/the_verdict.txt\", \"r\", encoding=\"utf-8\") as f:\n",
    "    raw_text = f.read()"
   ]
  },
  {
   "cell_type": "code",
   "execution_count": 7,
   "id": "67f2c1c2-35ef-4574-a372-64d157ef757d",
   "metadata": {},
   "outputs": [
    {
     "name": "stdout",
     "output_type": "stream",
     "text": [
      "5145\n"
     ]
    }
   ],
   "source": [
    "enc_text = tokenizer.encode(raw_text)\n",
    "print(len(enc_text))"
   ]
  },
  {
   "cell_type": "code",
   "execution_count": 8,
   "id": "c3919766-9865-45a1-9efe-806612a2f0ca",
   "metadata": {},
   "outputs": [],
   "source": [
    "enc_sample = enc_text[50:]"
   ]
  },
  {
   "cell_type": "code",
   "execution_count": 9,
   "id": "cc911f7d-6ed0-4f3f-bad2-7ea5755ca98c",
   "metadata": {},
   "outputs": [],
   "source": [
    "context_size = 4"
   ]
  },
  {
   "cell_type": "code",
   "execution_count": 10,
   "id": "d75fc126-5771-40ef-bcfa-c5e41047789b",
   "metadata": {},
   "outputs": [],
   "source": [
    "x = enc_sample[:context_size]"
   ]
  },
  {
   "cell_type": "code",
   "execution_count": 11,
   "id": "c1e8ac29-8690-49a1-b025-26b7d675c2e5",
   "metadata": {},
   "outputs": [],
   "source": [
    "y = enc_sample[1:context_size+1]"
   ]
  },
  {
   "cell_type": "code",
   "execution_count": 12,
   "id": "ded1006f-7bcf-4ab5-b04f-bab04e834291",
   "metadata": {},
   "outputs": [
    {
     "name": "stdout",
     "output_type": "stream",
     "text": [
      "x: [290, 4920, 2241, 287]\n",
      "y:      [4920, 2241, 287, 257]\n"
     ]
    }
   ],
   "source": [
    "print(f\"x: {x}\")\n",
    "print(f\"y:      {y}\")"
   ]
  },
  {
   "cell_type": "code",
   "execution_count": 13,
   "id": "4aef7a42-a1a0-4e00-8838-b1db02128cf6",
   "metadata": {},
   "outputs": [
    {
     "name": "stdout",
     "output_type": "stream",
     "text": [
      " and ----->  established\n",
      " and established ----->  himself\n",
      " and established himself ----->  in\n",
      " and established himself in ----->  a\n"
     ]
    }
   ],
   "source": [
    "for i in range(1, context_size+1):\n",
    "    context = enc_sample[:i]\n",
    "    desired = enc_sample[i]\n",
    "    print(tokenizer.decode(context), \"----->\", tokenizer.decode([desired]))"
   ]
  },
  {
   "cell_type": "code",
   "execution_count": 14,
   "id": "0f055294-ec19-438e-ba49-5cdc4d086130",
   "metadata": {},
   "outputs": [],
   "source": [
    "import torch\n",
    "from torch.utils.data import Dataset, DataLoader"
   ]
  },
  {
   "cell_type": "code",
   "execution_count": 15,
   "id": "e756aeed-eca4-4e68-ac4a-107fe5162d75",
   "metadata": {},
   "outputs": [],
   "source": [
    "text_file = \"data/the_verdict.txt\""
   ]
  },
  {
   "cell_type": "code",
   "execution_count": 16,
   "id": "90f846de-0598-449f-beae-c4004a079c7e",
   "metadata": {},
   "outputs": [],
   "source": [
    "class GPTDatasetV1(Dataset):\n",
    "    def __init__(self, txt, tokenizer, max_length, stride):\n",
    "        self.input_ids = []\n",
    "        self.target_ids = []\n",
    "\n",
    "        token_ids = tokenizer.encode(txt)\n",
    "\n",
    "        for i in range(0, len(token_ids) - max_length, stride):\n",
    "            input_chunk = token_ids[i:i + max_length +1]\n",
    "            target_chunk = token_ids[i +1: i + max_length +1]\n",
    "            self.input_ids.append(torch.tensor(input_chunk))\n",
    "            self.target_ids.append(torch.tensor(target_chunk))\n",
    "\n",
    "    def __len__(self):\n",
    "        return len(self.input_ids)\n",
    "\n",
    "    def __getitem__(self, idx):\n",
    "        return self.input_ids[idx], self.target_ids[idx]"
   ]
  },
  {
   "cell_type": "code",
   "execution_count": 17,
   "id": "ca85c800-a918-46a8-b5bb-dcd7063aa326",
   "metadata": {},
   "outputs": [],
   "source": [
    "def create_dataloader_v1(txt, \n",
    "                         batch_size=4, \n",
    "                         max_length=256, \n",
    "                         stride=128, \n",
    "                         shuffle=True, \n",
    "                         drop_last=True, \n",
    "                         num_workers=0):\n",
    "    tokenizer= tiktoken.get_encoding(\"gpt2\")\n",
    "    dataset = GPTDatasetV1(txt, tokenizer, max_length, stride)\n",
    "    dataloader = DataLoader(dataset, \n",
    "                            batch_size=batch_size, \n",
    "                            shuffle=shuffle, \n",
    "                            drop_last=drop_last, \n",
    "                            num_workers=num_workers)\n",
    "    return dataloader"
   ]
  },
  {
   "cell_type": "code",
   "execution_count": 18,
   "id": "ffd06275-ec22-4266-8341-8b6d7143cb3b",
   "metadata": {},
   "outputs": [],
   "source": [
    "with open(text_file, \"r\", encoding=\"utf-8\") as f:\n",
    "    raw_text = f.read()"
   ]
  },
  {
   "cell_type": "code",
   "execution_count": 19,
   "id": "5206a745-f466-4c13-8896-6862e73848b8",
   "metadata": {},
   "outputs": [],
   "source": [
    "dataloader = create_dataloader_v1(\n",
    "    raw_text, batch_size=1, max_length=4, stride=1, shuffle=False)"
   ]
  },
  {
   "cell_type": "code",
   "execution_count": 20,
   "id": "72e21b25-3146-436a-bf6b-32ed89fdd337",
   "metadata": {},
   "outputs": [],
   "source": [
    "data_iter = iter(dataloader)"
   ]
  },
  {
   "cell_type": "code",
   "execution_count": 21,
   "id": "233b2ab7-dd60-42c9-be85-367be531adea",
   "metadata": {},
   "outputs": [],
   "source": [
    "first_batch = next(data_iter)"
   ]
  },
  {
   "cell_type": "code",
   "execution_count": 22,
   "id": "c41fb5e0-1f6f-4f96-b653-204d52069351",
   "metadata": {},
   "outputs": [
    {
     "name": "stdout",
     "output_type": "stream",
     "text": [
      "[tensor([[  40,  367, 2885, 1464, 1807]]), tensor([[ 367, 2885, 1464, 1807]])]\n"
     ]
    }
   ],
   "source": [
    "print(first_batch)"
   ]
  },
  {
   "cell_type": "code",
   "execution_count": 23,
   "id": "5fd32b60-06e4-4f91-a44a-4f5c1e77de9b",
   "metadata": {},
   "outputs": [],
   "source": [
    "second_batch = next(data_iter)"
   ]
  },
  {
   "cell_type": "code",
   "execution_count": 24,
   "id": "1f955212-3dc6-4d7a-8c34-e1c5d196d230",
   "metadata": {},
   "outputs": [
    {
     "name": "stdout",
     "output_type": "stream",
     "text": [
      "[tensor([[ 367, 2885, 1464, 1807, 3619]]), tensor([[2885, 1464, 1807, 3619]])]\n"
     ]
    }
   ],
   "source": [
    "print(second_batch)"
   ]
  },
  {
   "cell_type": "markdown",
   "id": "aa2025e2-8644-47f6-8926-dc18cac62480",
   "metadata": {},
   "source": [
    "#### Increase Batch Size"
   ]
  },
  {
   "cell_type": "code",
   "execution_count": 25,
   "id": "c9a14788-24bc-40a2-b079-4119cad9dc53",
   "metadata": {},
   "outputs": [
    {
     "name": "stdout",
     "output_type": "stream",
     "text": [
      "Inputs:\n",
      " tensor([[   40,   367,  2885,  1464,  1807],\n",
      "        [ 1807,  3619,   402,   271, 10899],\n",
      "        [10899,  2138,   257,  7026, 15632],\n",
      "        [15632,   438,  2016,   257,   922],\n",
      "        [  922,  5891,  1576,   438,   568],\n",
      "        [  568,   340,   373,   645,  1049],\n",
      "        [ 1049,  5975,   284,   502,   284],\n",
      "        [  284,  3285,   326,    11,   287]])\n",
      "\n",
      "Targets:\n",
      " tensor([[  367,  2885,  1464,  1807],\n",
      "        [ 3619,   402,   271, 10899],\n",
      "        [ 2138,   257,  7026, 15632],\n",
      "        [  438,  2016,   257,   922],\n",
      "        [ 5891,  1576,   438,   568],\n",
      "        [  340,   373,   645,  1049],\n",
      "        [ 5975,   284,   502,   284],\n",
      "        [ 3285,   326,    11,   287]])\n"
     ]
    }
   ],
   "source": [
    "dataloader = create_dataloader_v1( raw_text, batch_size=8, max_length=4, stride=4, shuffle=False)\n",
    "data_iter = iter(dataloader)\n",
    "inputs, targets = next(data_iter)\n",
    "print(\"Inputs:\\n\", inputs)\n",
    "print(\"\\nTargets:\\n\", targets)"
   ]
  },
  {
   "cell_type": "code",
   "execution_count": null,
   "id": "18ca23b7-6d6d-43e8-860e-4a4d6c7b6385",
   "metadata": {},
   "outputs": [],
   "source": []
  }
 ],
 "metadata": {
  "kernelspec": {
   "display_name": "Python 3 (ipykernel)",
   "language": "python",
   "name": "python3"
  },
  "language_info": {
   "codemirror_mode": {
    "name": "ipython",
    "version": 3
   },
   "file_extension": ".py",
   "mimetype": "text/x-python",
   "name": "python",
   "nbconvert_exporter": "python",
   "pygments_lexer": "ipython3",
   "version": "3.11.10"
  }
 },
 "nbformat": 4,
 "nbformat_minor": 5
}
